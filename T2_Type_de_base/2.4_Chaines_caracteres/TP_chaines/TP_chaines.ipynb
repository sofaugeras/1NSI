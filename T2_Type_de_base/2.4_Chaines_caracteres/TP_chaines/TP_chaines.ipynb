{
 "cells": [
  {
   "cell_type": "markdown",
   "id": "3a4d16e5",
   "metadata": {},
   "source": [
    "<h1><center><span style=\"border-style:solid;border-width:1px;border-radius:5px;\n",
    "    padding:5px;background-color:yellow;box-shadow: 6px 6px 6px black;\">TP d'entraînement/révision</span></center></h1>\n",
    "<p style=\"text-align:left;\">\n",
    "<strong>1ère Spécialité NSI</strong></p>\n",
    "<p style=\"text-align:right;\">\n",
    "    <strong><center>Les chaînes de caractères</center></strong></p>\n",
    "\n",
    "<span style=\"text-align:end;\"></span>"
   ]
  },
  {
   "cell_type": "markdown",
   "id": "75400f2b",
   "metadata": {},
   "source": [
    "@crédit : Thomas Foirien et Stéphan Van Zuijlen  "
   ]
  },
  {
   "cell_type": "markdown",
   "id": "c76dd572",
   "metadata": {},
   "source": [
    "<div class=\"alert alert-info\"><strong>Exercice 1 : </strong> \n",
    "    Ecrire un programme qui affiche la <strong>première</strong> lettre d'un mot saisi par l'utilisateur.\n",
    "    </div>"
   ]
  },
  {
   "cell_type": "code",
   "execution_count": null,
   "id": "a077ccaa",
   "metadata": {},
   "outputs": [],
   "source": []
  },
  {
   "cell_type": "markdown",
   "id": "7a3bac2e",
   "metadata": {},
   "source": [
    "<div class=\"alert alert-info\"><strong>Exercice 2 : </strong> \n",
    "    Ecrire un programme qui affiche la <strong>dernière</strong> lettre d'un mot saisi par l'utilisateur.\n",
    "    </div>"
   ]
  },
  {
   "cell_type": "code",
   "execution_count": null,
   "id": "e2fa3d70",
   "metadata": {},
   "outputs": [],
   "source": []
  },
  {
   "cell_type": "markdown",
   "id": "be0e5301",
   "metadata": {},
   "source": [
    "<div class=\"alert alert-info\"><strong>Exercice 3 : </strong> \n",
    "    Ecrire une fonction <code>estPrésent(lettre,message)</code> qui renvoie <code>True</code> ou <code>False</code> selon que la lettre est présente ou non dans le message.\n",
    "</div>"
   ]
  },
  {
   "cell_type": "code",
   "execution_count": 26,
   "id": "02eaf765",
   "metadata": {},
   "outputs": [],
   "source": []
  },
  {
   "cell_type": "code",
   "execution_count": 27,
   "id": "a69c9188",
   "metadata": {},
   "outputs": [],
   "source": [
    "assert(estPrésent('a','abracadabra') == True)\n",
    "assert(estPrésent('r','abracadabra') == True)\n",
    "assert(estPrésent('R','abracadabra') == False)"
   ]
  },
  {
   "cell_type": "markdown",
   "id": "2e086bd8",
   "metadata": {},
   "source": [
    "<div class=\"alert alert-info\"><strong>Exercice 4 : </strong> \n",
    "    Ecrire une fonction <code>nbOccurences(lettre,message)</code> qui renvoie le nombre d'occurences d'une lettre (ou d'un caractère) dans un message.\n",
    "</div>"
   ]
  },
  {
   "cell_type": "code",
   "execution_count": 29,
   "id": "451fe7c0",
   "metadata": {},
   "outputs": [],
   "source": [
    "def nbOccurences(lettre,message):\n",
    "    pass"
   ]
  },
  {
   "cell_type": "code",
   "execution_count": 33,
   "id": "b7a2786f",
   "metadata": {},
   "outputs": [],
   "source": [
    "#autre solution d'écriture pour la boucle\n",
    "def nbOccurences(lettre,message):\n",
    "    pass"
   ]
  },
  {
   "cell_type": "code",
   "execution_count": 34,
   "id": "7967074b",
   "metadata": {},
   "outputs": [],
   "source": [
    "assert(nbOccurences('a','abracadabra') == 5)\n",
    "assert(nbOccurences('A','abracadabra') == 0)"
   ]
  },
  {
   "cell_type": "markdown",
   "id": "3701cabd",
   "metadata": {},
   "source": [
    "<div class=\"alert alert-info\"><strong>Exercice 5 : </strong> <em>Mot inversé</em> <br>\n",
    "    Ecrire une fonction <code>inverse(mot)</code> qui prend en paramètre un mot, et qui retourne ce mot à l'envers (de la droite vers la gauche).\n",
    "   </div>"
   ]
  },
  {
   "cell_type": "code",
   "execution_count": 8,
   "id": "fcafb6d4",
   "metadata": {},
   "outputs": [],
   "source": [
    "#votre fonction ici"
   ]
  },
  {
   "cell_type": "code",
   "execution_count": 9,
   "id": "40a49c30",
   "metadata": {},
   "outputs": [],
   "source": [
    "assert inverse(\"redon\") == \"noder\"\n",
    "assert inverse(\"NSI\") == \"ISN\""
   ]
  },
  {
   "cell_type": "markdown",
   "id": "9aea9c16",
   "metadata": {},
   "source": [
    "<div class=\"alert alert-info\"><strong>Exercice 6 : </strong> <em>Suppression des voyelles</em><br>\n",
    "    Ecrire un programme qui demande à l'utilisateur de saisir un mot ou un message en lettres majuscules, et qui affiche ce message en supprimant toutes les voyelles.\n",
    "</div>"
   ]
  },
  {
   "cell_type": "code",
   "execution_count": null,
   "id": "2a0861b0",
   "metadata": {},
   "outputs": [],
   "source": [
    "message = input(\"Veuillez saisir un texte en majuscules : \")\n",
    "# ..."
   ]
  },
  {
   "cell_type": "markdown",
   "id": "5ccc3300",
   "metadata": {},
   "source": [
    "<div class=\"alert alert-info\"><strong>Exercice 7 : </strong> <em>Plus longue répétition</em><br>\n",
    "    Ecrire une fonction <code>plusLongueRépétition(message)</code> qui renvoie le plus grand nombre de caractères consécutifs identiques dans le message.\n",
    "</div>"
   ]
  },
  {
   "cell_type": "code",
   "execution_count": 12,
   "id": "36827788",
   "metadata": {},
   "outputs": [],
   "source": [
    "def plusLongueRépétition(message):\n",
    "    pass"
   ]
  },
  {
   "cell_type": "code",
   "execution_count": 13,
   "id": "938b4989",
   "metadata": {},
   "outputs": [],
   "source": [
    "assert(plusLongueRépétition('lycanthropiques') == 1)\n",
    "assert(plusLongueRépétition('arrosoir') == 2)\n",
    "assert(plusLongueRépétition('AAaaaaAaaaA') == 4)\n",
    "assert(plusLongueRépétition('aaa') == 3)\n",
    "assert(plusLongueRépétition('a') == 1)\n",
    "assert(plusLongueRépétition('') == 0)"
   ]
  },
  {
   "cell_type": "markdown",
   "id": "0a45a459",
   "metadata": {},
   "source": [
    "<div class=\"alert alert-info\"><strong>Exercice 8 : </strong> <em>Distance entre deux mots</em><br>\n",
    "    La <em>distance de Hamming</em> entre deux mots de même longueur est le nombre d'endroit où les lettres sont <u>différentes</u>.<br />\n",
    "    Par exemple : JAPON - SAVON<br />\n",
    "    La première lettre de JAPON est différente de la première lettre de SAVON, les troisièmes aussi sont différentes. <br />\n",
    "    La distance de Hamming entre JAPON et SAVON vaut donc 2.\n",
    "    Ecrire une fonction <code>distHamming(mot1, mot2)</code> qui calcule la distance de Hamming entre deux mots passés en paramètre.\n",
    "</div>"
   ]
  },
  {
   "cell_type": "markdown",
   "id": "98b23a3d",
   "metadata": {},
   "source": [
    "Aide :\n",
    "- Pour connaître la longueur d’une chaîne de caractère: ```len(machaine)```\n",
    "- Pour tester la non égalité de deux éléments: ```if el1!=ele2```\n",
    "- On utilisera un compteur\n",
    "- On testera l’égalité des longueurs des mots\n",
    "- On mettra les mots en majuscule dans une autre variable: ```m = mot.upper()```\n",
    "- Pour boucler sur les lettres d’un mot: par exemple pour les afficher\n",
    "``` \n",
    "for i in range(len(mot)):\n",
    "    print(mot[i])\n",
    "    ```"
   ]
  },
  {
   "cell_type": "code",
   "execution_count": 15,
   "id": "151df2f8",
   "metadata": {},
   "outputs": [],
   "source": [
    "#votre fonction ici"
   ]
  },
  {
   "cell_type": "code",
   "execution_count": 17,
   "id": "4a0113d3",
   "metadata": {},
   "outputs": [],
   "source": [
    "assert distHamming(\"JAPON\", \"SAVON\") == 2\n",
    "assert distHamming(\"NON\",\"OUI\") == 3"
   ]
  },
  {
   "cell_type": "markdown",
   "id": "29807c7a",
   "metadata": {},
   "source": [
    "<div class=\"alert alert-info\"><strong>Exercice 9 : </strong> <em>Le latin cochon</em><br>\n",
    "    On transforme un mot commençant par une consonne selon la recette suivante:\n",
    "- On déplace la première lettre à la fin du mot\n",
    "- On rajoute le suffixe UM\n",
    "<br />\n",
    "Par exemple: VITRE devient ITREVUM\n",
    "    Ecrire une fonction <code>latin(message)</code> qui transforme un mot en latin cochon.\n",
    "</div>"
   ]
  },
  {
   "cell_type": "code",
   "execution_count": 18,
   "id": "6cf84d5c",
   "metadata": {},
   "outputs": [],
   "source": [
    "#votre fonction ici"
   ]
  },
  {
   "cell_type": "code",
   "execution_count": null,
   "id": "6de2c3ac",
   "metadata": {},
   "outputs": [],
   "source": [
    "assert latin(\"VITRE\")==\"ITREVUM\"\n",
    "assert latin(\"REDON\")==\"EDONRUM\"\n",
    "assert not latin(\"PARIS\")==\"PARISUM\""
   ]
  },
  {
   "cell_type": "markdown",
   "id": "059b22f1",
   "metadata": {},
   "source": [
    "Aide : \n",
    "- Une chaîne de caractère est non modifiable, il faut donc en créer une autre\n",
    "- On mettra le mot en majuscule: ```m=mot.upper()```\n",
    "- L’addition de caractères se nomme concaténation ```\"A\"+\"B\"=\"AB\"``` \n",
    "- On définit une chaîne de caractère vide avec: ```chaine=\"\"```\n"
   ]
  },
  {
   "cell_type": "markdown",
   "id": "b23fab09",
   "metadata": {},
   "source": [
    "<div class=\"alert alert-info\"><strong>Exercice 10 : </strong> <em>Test de conformité d'une chaîne</em><br>\n",
    "Les codes postaux américains (ZIP codes) doivent impérativement suivre le format suivant : 99999-9999\n",
    "    (cinq chiffres suivis d'un tiret suivi de quatre chiffres).<br>  \n",
    "    Les services de l'US Postal ont un sens de l'humour assez limité, et quiconque ne respectera pas rigoureusement le format verra sa lettre redirigée vers le service de tri à la main, et en ressortir après une durée difficile à prédire.<br><br>\n",
    "Ecrire une fonction <code>ZIPCodeOK</code> qui prend en paramètre une chaîne de caractères, et qui renvoie la valeur booléenne <code>True</code> ou <code>False</code> selon que la chaîne est un code postal valide ou non.<br>\n",
    "    Tester votre fonction avec trois cas de figure différents.\n",
    "</div>"
   ]
  },
  {
   "cell_type": "code",
   "execution_count": 1,
   "id": "116402c3",
   "metadata": {},
   "outputs": [],
   "source": []
  },
  {
   "cell_type": "code",
   "execution_count": null,
   "id": "56e89190",
   "metadata": {},
   "outputs": [],
   "source": []
  },
  {
   "cell_type": "markdown",
   "id": "edece1e4",
   "metadata": {},
   "source": [
    "Remarque : Ce genre de problème peut être traité de façon très concise et efficace à l'aide des \"expressions régulières\" (regular expressions en anglais, abrégées en regexpr ou regex ou re), comme le montre le code ci-dessous.<br>\n",
    "Dans cet exercice, vous ne pouvez utiliser que les notions vues en classe (boucles, conditions...)."
   ]
  },
  {
   "cell_type": "code",
   "execution_count": null,
   "id": "d5e10547",
   "metadata": {},
   "outputs": [],
   "source": [
    "import re\n",
    "\n",
    "def ZIPCodeOk(chaine):\n",
    "    return re.compile(\"\\d{5}-\\d{4}\").fullmatch(chaine) is not None\n",
    "    \n",
    "print(ZIPCodeOk(\"17581-1681\"))"
   ]
  }
 ],
 "metadata": {
  "kernelspec": {
   "display_name": "Python 3 (ipykernel)",
   "language": "python",
   "name": "python3"
  },
  "language_info": {
   "codemirror_mode": {
    "name": "ipython",
    "version": 3
   },
   "file_extension": ".py",
   "mimetype": "text/x-python",
   "name": "python",
   "nbconvert_exporter": "python",
   "pygments_lexer": "ipython3",
   "version": "3.9.13"
  }
 },
 "nbformat": 4,
 "nbformat_minor": 5
}
