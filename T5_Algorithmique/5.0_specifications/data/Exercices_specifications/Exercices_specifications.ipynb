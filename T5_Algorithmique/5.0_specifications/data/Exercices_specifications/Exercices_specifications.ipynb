{
 "cells": [
  {
   "cell_type": "markdown",
   "metadata": {},
   "source": [
    "# Exercices Spécifications et tests"
   ]
  },
  {
   "cell_type": "markdown",
   "metadata": {},
   "source": [
    "Pour chacun des exercices ci-dessous, vous devez rédiger l'entête de la donction (docstring) puis les tests nécessaires (assert)"
   ]
  },
  {
   "cell_type": "markdown",
   "metadata": {},
   "source": [
    "Les exercices ci dessous sont des révisions d'algorithmie et reprennent également ce que vous avez vu sur les listes."
   ]
  },
  {
   "cell_type": "code",
   "execution_count": null,
   "metadata": {},
   "outputs": [],
   "source": [
    "import math "
   ]
  },
  {
   "cell_type": "code",
   "execution_count": null,
   "metadata": {},
   "outputs": [],
   "source": [
    "def ma_fonction1(x): \n",
    "    return(x*math.pi/180) "
   ]
  },
  {
   "cell_type": "code",
   "execution_count": null,
   "metadata": {},
   "outputs": [],
   "source": [
    "def ma_fonction2(x): \n",
    "    return(math.cos(ma_fonction1(x)))"
   ]
  },
  {
   "cell_type": "markdown",
   "metadata": {},
   "source": [
    "### Exercice 1\n",
    "\n",
    "On rappelle que la fonction `randint(a, b)` du module `random` permet de tirer un nombre au hasard entre `a` et `b` compris.  En particulier elle permet de tirer l'indice d'un élément de tableau au hasard ..."
   ]
  },
  {
   "cell_type": "code",
   "execution_count": null,
   "metadata": {},
   "outputs": [],
   "source": [
    "import random\n",
    "\n",
    "def tirer_une_carte():\n",
    "    couleurs = ('pique','trèfle','coeur','carreau')\n",
    "    valeurs = ('7', '8', '9', '10', 'V', 'D', 'R', 'AS')\n",
    "    # à compléter ...\n",
    "    #x = random.randint( ...\n",
    "    #\n",
    "    #\n",
    "    #\n",
    "    #\n",
    "    #return ..."
   ]
  },
  {
   "cell_type": "markdown",
   "metadata": {},
   "source": [
    "ici, avec le module random, est il possible de rédiger un test d'égalité \n",
    "exemple ``` assert tirer_une_carte() == 1 ```\n",
    "Comment peut-on ?"
   ]
  },
  {
   "cell_type": "code",
   "execution_count": null,
   "metadata": {},
   "outputs": [],
   "source": []
  },
  {
   "cell_type": "markdown",
   "metadata": {},
   "source": [
    "## Exercice 2"
   ]
  },
  {
   "cell_type": "markdown",
   "metadata": {},
   "source": [
    "On vous donne une liste et on veut écrire une fonction qui donne le nombre d'élément de cette liste supérieurs ou égaux à 100."
   ]
  },
  {
   "cell_type": "code",
   "execution_count": 3,
   "metadata": {},
   "outputs": [],
   "source": []
  },
  {
   "cell_type": "markdown",
   "metadata": {},
   "source": [
    "> Rédiger le test pour la liste [100,20,50,150,240,99]"
   ]
  },
  {
   "cell_type": "code",
   "execution_count": 5,
   "metadata": {},
   "outputs": [],
   "source": [
    "li1 = [100,20,50,150,240,99]\n"
   ]
  },
  {
   "cell_type": "markdown",
   "metadata": {},
   "source": [
    "> Rédiger le test pour la liste [50*i for i in range(7)]"
   ]
  },
  {
   "cell_type": "code",
   "execution_count": null,
   "metadata": {},
   "outputs": [],
   "source": []
  },
  {
   "cell_type": "markdown",
   "metadata": {},
   "source": [
    "## Exercice 3"
   ]
  },
  {
   "cell_type": "markdown",
   "metadata": {},
   "source": [
    "Sur les fonctions suivantes, déterminer les assertions à mettre en oeuvre pour tester ces fonctions.\n",
    "Et corriger si nécessaire le code de la fonction pour qu'elle fonctionne comme l'indique sa spécifications"
   ]
  },
  {
   "cell_type": "code",
   "execution_count": 6,
   "metadata": {},
   "outputs": [],
   "source": [
    "def echange_v1(liste):\n",
    "    \"\"\"modifie la liste, la met dans l'ordre inverse\"\"\"\n",
    "    n=len(liste)\n",
    "    for i in range(n):\n",
    "        liste[i], liste[n-1-i] = liste[n-1-i], liste[i]"
   ]
  },
  {
   "cell_type": "code",
   "execution_count": null,
   "metadata": {},
   "outputs": [],
   "source": []
  },
  {
   "cell_type": "code",
   "execution_count": 11,
   "metadata": {},
   "outputs": [],
   "source": [
    "def echange_v2(liste):\n",
    "    \"\"\"modifie la liste, la met dans l'ordre inverse\"\"\"\n",
    "    n=len(liste)\n",
    "    for i in range(n//2):\n",
    "        liste[i]=liste[n-1-i]\n",
    "        liste[n-1-i]=liste[i]"
   ]
  },
  {
   "cell_type": "code",
   "execution_count": null,
   "metadata": {},
   "outputs": [],
   "source": []
  },
  {
   "cell_type": "code",
   "execution_count": null,
   "metadata": {},
   "outputs": [],
   "source": [
    "def ajoutUnListe(liste):\n",
    "    \"\"\"modifie la liste, ajoute 1 à chacun des termes\"\"\"\n",
    "    n= len(liste)\n",
    "    for i in range(1, n+1):\n",
    "        liste[i] = liste[i]+1"
   ]
  },
  {
   "cell_type": "code",
   "execution_count": null,
   "metadata": {},
   "outputs": [],
   "source": []
  },
  {
   "cell_type": "markdown",
   "metadata": {},
   "source": [
    "## Exercice 4 : Recherche d'extremum dans une liste"
   ]
  },
  {
   "cell_type": "markdown",
   "metadata": {},
   "source": [
    "## Activité débranchée\n",
    "Vous disposez de petits papiers numérotées 3, 2, 4, 6, 9, 1, 5 disposées dans n'importe quel ordre.\n",
    "\n",
    "Vous disposez aussi d'un emplacement \"support\" nommée `m`.  \n",
    "\n",
    "![](data/deck.png)\n",
    "\n",
    "\n",
    "> Exprimer oralement l'algorithme permettant de trouver quelle est la carte portant la valeur maximale."
   ]
  },
  {
   "cell_type": "markdown",
   "metadata": {},
   "source": [
    "## Création d'une fonction `maximum(liste)`\n",
    "\n",
    "*Attention : nous allons recréer une fonction qui, bien sûr, existe déjà en Python, sous le nom `max()`.*\n",
    "\n",
    "Ecrire l'algorithme en Python.  \n",
    "Il est expressément demandé de construire une fonction nommée `maximum()`, qui prenne en argument une liste, et qui renvoie le plus grand nombre de cette liste.\n",
    "\n",
    "**Exemple d'utilisation :**\n",
    "```python\n",
    ">>> maximum([3,1,6,2])\n",
    ">>> 6\n",
    "```"
   ]
  },
  {
   "cell_type": "code",
   "execution_count": null,
   "metadata": {},
   "outputs": [],
   "source": [
    "def maximum(l) :\n",
    "    \"\"\"\n",
    "    Ecrire ici la docstring\n",
    "    \"\"\"\n",
    "    \n",
    "    "
   ]
  },
  {
   "cell_type": "code",
   "execution_count": null,
   "metadata": {},
   "outputs": [],
   "source": [
    "#Cas classique avec la valeur positionnée au milieu\n",
    "assert maximum([3,1,6,2])== 6\n",
    "#Cas classique avec la valeur positionnée en premier\n",
    "assert maximum([9,1,6,2])== 9\n",
    "#Cas classique avec la valeur positionnée en dernier\n",
    "assert maximum([3,1,6,9])== 9\n",
    "#Cas limite d'une liste vide\n",
    "assert maximum([]) == None"
   ]
  },
  {
   "cell_type": "markdown",
   "metadata": {},
   "source": [
    "## Exercice 5"
   ]
  },
  {
   "cell_type": "markdown",
   "metadata": {},
   "source": [
    "# Calcul de la moyenne des termes d'une liste\n",
    "Créer une fonction `moyenne()` qui prenne en argument une liste et qui renvoie la moyenne des nombres de cette liste."
   ]
  },
  {
   "cell_type": "code",
   "execution_count": null,
   "metadata": {},
   "outputs": [],
   "source": [
    "#Ecrire ici la fonction"
   ]
  },
  {
   "cell_type": "code",
   "execution_count": null,
   "metadata": {},
   "outputs": [],
   "source": [
    "#Ecrire ici les assertions"
   ]
  }
 ],
 "metadata": {
  "kernelspec": {
   "display_name": "Python 3",
   "language": "python",
   "name": "python3"
  },
  "language_info": {
   "codemirror_mode": {
    "name": "ipython",
    "version": 3
   },
   "file_extension": ".py",
   "mimetype": "text/x-python",
   "name": "python",
   "nbconvert_exporter": "python",
   "pygments_lexer": "ipython3",
   "version": "3.8.3"
  }
 },
 "nbformat": 4,
 "nbformat_minor": 4
}
